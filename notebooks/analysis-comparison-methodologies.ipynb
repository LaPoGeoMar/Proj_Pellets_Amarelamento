{
 "cells": [
  {
   "cell_type": "markdown",
   "metadata": {},
   "source": [
    "# Comparação entre Metodologias\n",
    "\n",
    "- Verificar porcentagem de acertos da metodologia RGB"
   ]
  },
  {
   "cell_type": "markdown",
   "metadata": {},
   "source": [
    "## Acertos Intervalos Banda Azul"
   ]
  },
  {
   "cell_type": "code",
   "execution_count": null,
   "metadata": {},
   "outputs": [],
   "source": [
    "# blue = {\n",
    "#     \"nulo\":       (df[\"B\"] >= 160),\n",
    "#     \"baixo\":      (df[\"B\"] <  160) & (df[\"B\"] >  55),\n",
    "#     \"moderado\":   (df[\"B\"] <= 55)  & (df[\"B\"] >  10),\n",
    "#     \"alto\":       (df[\"B\"] <= 10),\n",
    "#     \"muito alto\": (df[\"B\"] <= 10),\n",
    "# }"
   ]
  },
  {
   "cell_type": "code",
   "execution_count": 1,
   "metadata": {
    "scrolled": true
   },
   "outputs": [],
   "source": [
    "from pathlib import Path\n",
    "from glob import glob\n",
    "\n",
    "import pandas as pd\n",
    "\n",
    "dfonlyblue = pd.read_csv('comparison_methodologies_onlyblue.csv', index_col = 0)"
   ]
  },
  {
   "cell_type": "code",
   "execution_count": 3,
   "metadata": {},
   "outputs": [
    {
     "data": {
      "text/html": [
       "<div>\n",
       "<style scoped>\n",
       "    .dataframe tbody tr th:only-of-type {\n",
       "        vertical-align: middle;\n",
       "    }\n",
       "\n",
       "    .dataframe tbody tr th {\n",
       "        vertical-align: top;\n",
       "    }\n",
       "\n",
       "    .dataframe thead th {\n",
       "        text-align: right;\n",
       "    }\n",
       "</style>\n",
       "<table border=\"1\" class=\"dataframe\">\n",
       "  <thead>\n",
       "    <tr style=\"text-align: right;\">\n",
       "      <th></th>\n",
       "      <th>Comparação das Metodologias</th>\n",
       "      <th>Classe Visual</th>\n",
       "      <th>Classe Rotina</th>\n",
       "    </tr>\n",
       "  </thead>\n",
       "  <tbody>\n",
       "    <tr>\n",
       "      <th>count</th>\n",
       "      <td>202</td>\n",
       "      <td>202</td>\n",
       "      <td>202</td>\n",
       "    </tr>\n",
       "    <tr>\n",
       "      <th>unique</th>\n",
       "      <td>2</td>\n",
       "      <td>6</td>\n",
       "      <td>4</td>\n",
       "    </tr>\n",
       "    <tr>\n",
       "      <th>top</th>\n",
       "      <td>Mesma Classe</td>\n",
       "      <td>baixo</td>\n",
       "      <td>baixo</td>\n",
       "    </tr>\n",
       "    <tr>\n",
       "      <th>freq</th>\n",
       "      <td>108</td>\n",
       "      <td>67</td>\n",
       "      <td>107</td>\n",
       "    </tr>\n",
       "  </tbody>\n",
       "</table>\n",
       "</div>"
      ],
      "text/plain": [
       "       Comparação das Metodologias Classe Visual Classe Rotina\n",
       "count                          202           202           202\n",
       "unique                           2             6             4\n",
       "top                   Mesma Classe         baixo         baixo\n",
       "freq                           108            67           107"
      ]
     },
     "execution_count": 3,
     "metadata": {},
     "output_type": "execute_result"
    }
   ],
   "source": [
    "dfonlyblue.describe()"
   ]
  },
  {
   "cell_type": "code",
   "execution_count": 4,
   "metadata": {},
   "outputs": [
    {
     "data": {
      "text/plain": [
       "baixo       107\n",
       "nulo         62\n",
       "alto         23\n",
       "moderado     10\n",
       "Name: Classe Rotina, dtype: int64"
      ]
     },
     "execution_count": 4,
     "metadata": {},
     "output_type": "execute_result"
    }
   ],
   "source": [
    "dfonlyblue['Classe Rotina'].value_counts()"
   ]
  },
  {
   "cell_type": "code",
   "execution_count": 5,
   "metadata": {},
   "outputs": [
    {
     "data": {
      "text/plain": [
       "baixo         67\n",
       "nulo          60\n",
       "alto          32\n",
       "moderado      31\n",
       "muito alto     9\n",
       "na             3\n",
       "Name: Classe Visual, dtype: int64"
      ]
     },
     "execution_count": 5,
     "metadata": {},
     "output_type": "execute_result"
    }
   ],
   "source": [
    "dfonlyblue['Classe Visual'].value_counts()"
   ]
  },
  {
   "cell_type": "code",
   "execution_count": 7,
   "metadata": {},
   "outputs": [
    {
     "data": {
      "text/plain": [
       "Comparação das Metodologias  Classe Visual  Classe Rotina\n",
       "Classes Diferentes           alto           baixo             9\n",
       "                                            moderado          8\n",
       "                             baixo          moderado          1\n",
       "                                            nulo             15\n",
       "                             moderado       alto              1\n",
       "                                            baixo            27\n",
       "                                            nulo              3\n",
       "                             muito alto     alto              7\n",
       "                                            baixo             1\n",
       "                                            moderado          1\n",
       "                             na             baixo             1\n",
       "                                            nulo              2\n",
       "                             nulo           baixo            18\n",
       "Mesma Classe                 alto           alto             15\n",
       "                             baixo          baixo            51\n",
       "                             nulo           nulo             42\n",
       "dtype: int64"
      ]
     },
     "execution_count": 7,
     "metadata": {},
     "output_type": "execute_result"
    }
   ],
   "source": [
    "dfonlyblue.groupby([\"Comparação das Metodologias\", \"Classe Visual\", \"Classe Rotina\"]).size()"
   ]
  },
  {
   "cell_type": "code",
   "execution_count": 11,
   "metadata": {},
   "outputs": [
    {
     "name": "stdout",
     "output_type": "stream",
     "text": [
      "Porcentagem de acertos totais da metodologia foi de 53.47 %\n"
     ]
    }
   ],
   "source": [
    "# Porcentagem de acertos da metodologia\n",
    "\n",
    "tot = 202\n",
    "same_class = 108\n",
    "acerto = (same_class/tot)*100\n",
    "print('Porcentagem de acertos totais da metodologia foi de', round(acerto,2),'%')"
   ]
  },
  {
   "cell_type": "code",
   "execution_count": 15,
   "metadata": {},
   "outputs": [],
   "source": [
    "# Porcentagem de acertos por classe\n",
    "\n",
    "#Dados Visual\n",
    "data_visual = {'nulo': 60,\n",
    "                'baixo': 67,\n",
    "                'moderado': 31,\n",
    "                'alto': 32,\n",
    "                'muito alto':9\n",
    "               }\n",
    "\n",
    "#Dados Metodo RGB\n",
    "data_onlyblue = {'nulo': 42,\n",
    "                  'baixo': 51,\n",
    "                  'moderado': 0,\n",
    "                  'alto': 15,\n",
    "                  'muito alto': 0\n",
    "                 }"
   ]
  },
  {
   "cell_type": "code",
   "execution_count": 17,
   "metadata": {},
   "outputs": [
    {
     "name": "stdout",
     "output_type": "stream",
     "text": [
      "Amarelamento nulo teve 70.0 % de acertos \n",
      "\n",
      "Amarelamento baixo teve 76.12 % de acertos \n",
      "\n",
      "Amarelamento moderado teve 0.0 % de acertos \n",
      "\n",
      "Amarelamento alto teve 46.88 % de acertos \n",
      "\n",
      "Amarelamento muito alto teve 0.0 % de acertos \n",
      "\n"
     ]
    }
   ],
   "source": [
    "for key in data_visual.keys():\n",
    "    acerto_classe = (data_onlyblue.get(key)/data_visual.get(key))*100\n",
    "    print('Amarelamento',key,'teve', round(acerto_classe,2), '% de acertos \\n')"
   ]
  },
  {
   "cell_type": "markdown",
   "metadata": {},
   "source": [
    "## Acertos Intervalos Banda Azul + B/R"
   ]
  },
  {
   "cell_type": "code",
   "execution_count": 45,
   "metadata": {},
   "outputs": [],
   "source": [
    "# blue = {\n",
    "#     \"nulo\":       (df[\"B\"] >= 160),\n",
    "#     \"baixo\":      (df[\"B\"] <  160) & (df[\"B\"] >  55),\n",
    "#     \"moderado\":   (df[\"B\"] <= 55)  & (df[\"B\"] >  10),\n",
    "#     \"alto\":       (df[\"B\"] <= 10) & (df['B']/df['R'] < 0.04),\n",
    "#     \"muito alto\": (df[\"B\"] <= 10)\n",
    "# }"
   ]
  },
  {
   "cell_type": "code",
   "execution_count": 46,
   "metadata": {},
   "outputs": [],
   "source": [
    "from pathlib import Path\n",
    "from glob import glob\n",
    "\n",
    "import pandas as pd\n",
    "\n",
    "df_br = pd.read_csv('comparison_methodologies_br.csv', index_col = 0)"
   ]
  },
  {
   "cell_type": "code",
   "execution_count": 47,
   "metadata": {},
   "outputs": [
    {
     "data": {
      "text/html": [
       "<div>\n",
       "<style scoped>\n",
       "    .dataframe tbody tr th:only-of-type {\n",
       "        vertical-align: middle;\n",
       "    }\n",
       "\n",
       "    .dataframe tbody tr th {\n",
       "        vertical-align: top;\n",
       "    }\n",
       "\n",
       "    .dataframe thead th {\n",
       "        text-align: right;\n",
       "    }\n",
       "</style>\n",
       "<table border=\"1\" class=\"dataframe\">\n",
       "  <thead>\n",
       "    <tr style=\"text-align: right;\">\n",
       "      <th></th>\n",
       "      <th>Comparação das Metodologias</th>\n",
       "      <th>Classe Visual</th>\n",
       "      <th>Classe Rotina</th>\n",
       "    </tr>\n",
       "  </thead>\n",
       "  <tbody>\n",
       "    <tr>\n",
       "      <th>count</th>\n",
       "      <td>202</td>\n",
       "      <td>202</td>\n",
       "      <td>202</td>\n",
       "    </tr>\n",
       "    <tr>\n",
       "      <th>unique</th>\n",
       "      <td>2</td>\n",
       "      <td>6</td>\n",
       "      <td>5</td>\n",
       "    </tr>\n",
       "    <tr>\n",
       "      <th>top</th>\n",
       "      <td>Mesma Classe</td>\n",
       "      <td>baixo</td>\n",
       "      <td>baixo</td>\n",
       "    </tr>\n",
       "    <tr>\n",
       "      <th>freq</th>\n",
       "      <td>106</td>\n",
       "      <td>67</td>\n",
       "      <td>107</td>\n",
       "    </tr>\n",
       "  </tbody>\n",
       "</table>\n",
       "</div>"
      ],
      "text/plain": [
       "       Comparação das Metodologias Classe Visual Classe Rotina\n",
       "count                          202           202           202\n",
       "unique                           2             6             5\n",
       "top                   Mesma Classe         baixo         baixo\n",
       "freq                           106            67           107"
      ]
     },
     "execution_count": 47,
     "metadata": {},
     "output_type": "execute_result"
    }
   ],
   "source": [
    "df_br.describe()"
   ]
  },
  {
   "cell_type": "code",
   "execution_count": 48,
   "metadata": {},
   "outputs": [
    {
     "data": {
      "text/plain": [
       "Comparação das Metodologias  Classe Visual  Classe Rotina\n",
       "Classes Diferentes           alto           baixo             9\n",
       "                                            moderado          8\n",
       "                                            muito alto        3\n",
       "                             baixo          moderado          1\n",
       "                                            nulo             15\n",
       "                             moderado       baixo            27\n",
       "                                            muito alto        1\n",
       "                                            nulo              3\n",
       "                             muito alto     alto              6\n",
       "                                            baixo             1\n",
       "                                            moderado          1\n",
       "                             na             baixo             1\n",
       "                                            nulo              2\n",
       "                             nulo           baixo            18\n",
       "Mesma Classe                 alto           alto             12\n",
       "                             baixo          baixo            51\n",
       "                             muito alto     muito alto        1\n",
       "                             nulo           nulo             42\n",
       "dtype: int64"
      ]
     },
     "execution_count": 48,
     "metadata": {},
     "output_type": "execute_result"
    }
   ],
   "source": [
    "df_br.groupby([\"Comparação das Metodologias\", \"Classe Visual\", \"Classe Rotina\"]).size()"
   ]
  },
  {
   "cell_type": "code",
   "execution_count": 49,
   "metadata": {},
   "outputs": [
    {
     "name": "stdout",
     "output_type": "stream",
     "text": [
      "Porcentagem de acertos totais da metodologia foi de 52.48 %\n"
     ]
    }
   ],
   "source": [
    "# Porcentagem de acertos da metodologia\n",
    "\n",
    "tot = 202\n",
    "same_class = 106\n",
    "acerto = (same_class/tot)*100\n",
    "print('Porcentagem de acertos totais da metodologia foi de', round(acerto,2),'%')"
   ]
  },
  {
   "cell_type": "code",
   "execution_count": 50,
   "metadata": {},
   "outputs": [],
   "source": [
    "# Porcentagem de acertos por classe\n",
    "\n",
    "#Dados Visual\n",
    "data_visual = {'nulo': 60,\n",
    "                'baixo': 67,\n",
    "                'moderado': 31,\n",
    "                'alto': 32,\n",
    "                'muito alto':9\n",
    "               }\n",
    "\n",
    "#Dados Metodo RGB\n",
    "data_dfbr = {'nulo': 42,\n",
    "                  'baixo': 51,\n",
    "                  'moderado': 0,\n",
    "                  'alto': 12,\n",
    "                  'muito alto': 1\n",
    "                 }"
   ]
  },
  {
   "cell_type": "code",
   "execution_count": 51,
   "metadata": {},
   "outputs": [
    {
     "name": "stdout",
     "output_type": "stream",
     "text": [
      "Amarelamento nulo teve 70.0 % de acertos \n",
      "\n",
      "Amarelamento baixo teve 76.12 % de acertos \n",
      "\n",
      "Amarelamento moderado teve 0.0 % de acertos \n",
      "\n",
      "Amarelamento alto teve 37.5 % de acertos \n",
      "\n",
      "Amarelamento muito alto teve 11.11 % de acertos \n",
      "\n"
     ]
    }
   ],
   "source": [
    "for key in data_visual.keys():\n",
    "    acerto_classe = (data_dfbr.get(key)/data_visual.get(key))*100\n",
    "    print('Amarelamento',key,'teve', round(acerto_classe,2), '% de acertos \\n')"
   ]
  }
 ],
 "metadata": {
  "kernelspec": {
   "display_name": "Python 3",
   "language": "python",
   "name": "python3"
  },
  "language_info": {
   "codemirror_mode": {
    "name": "ipython",
    "version": 3
   },
   "file_extension": ".py",
   "mimetype": "text/x-python",
   "name": "python",
   "nbconvert_exporter": "python",
   "pygments_lexer": "ipython3",
   "version": "3.9.7"
  }
 },
 "nbformat": 4,
 "nbformat_minor": 4
}
