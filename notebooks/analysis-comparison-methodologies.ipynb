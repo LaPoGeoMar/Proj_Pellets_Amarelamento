{
 "cells": [
  {
   "cell_type": "markdown",
   "metadata": {},
   "source": [
    "# Comparação entre Metodologias\n",
    "\n",
    "- Verificar porcentagem de acertos da metodologia RGB"
   ]
  },
  {
   "cell_type": "code",
   "execution_count": 2,
   "metadata": {
    "scrolled": true
   },
   "outputs": [
    {
     "data": {
      "text/html": [
       "<div>\n",
       "<style scoped>\n",
       "    .dataframe tbody tr th:only-of-type {\n",
       "        vertical-align: middle;\n",
       "    }\n",
       "\n",
       "    .dataframe tbody tr th {\n",
       "        vertical-align: top;\n",
       "    }\n",
       "\n",
       "    .dataframe thead th {\n",
       "        text-align: right;\n",
       "    }\n",
       "</style>\n",
       "<table border=\"1\" class=\"dataframe\">\n",
       "  <thead>\n",
       "    <tr style=\"text-align: right;\">\n",
       "      <th></th>\n",
       "      <th>Classificação Visual</th>\n",
       "      <th>Classificação RGB - B</th>\n",
       "      <th>Classificação RGB - R/B</th>\n",
       "      <th>Comparação Visual e B</th>\n",
       "      <th>Comparação Visual e R/B</th>\n",
       "    </tr>\n",
       "  </thead>\n",
       "  <tbody>\n",
       "    <tr>\n",
       "      <th>cl1_p12_moca2_deixa4_a0004</th>\n",
       "      <td>muito alto</td>\n",
       "      <td>alto</td>\n",
       "      <td>alto</td>\n",
       "      <td>Classes Diferentes</td>\n",
       "      <td>Classes Diferentes</td>\n",
       "    </tr>\n",
       "    <tr>\n",
       "      <th>cl1_p3_brava_deixa2_g0004</th>\n",
       "      <td>baixo</td>\n",
       "      <td>baixo</td>\n",
       "      <td>baixo</td>\n",
       "      <td>Mesma Classe</td>\n",
       "      <td>Mesma Classe</td>\n",
       "    </tr>\n",
       "    <tr>\n",
       "      <th>cl1_p13_lagoinha_deixa3_a0002</th>\n",
       "      <td>nulo</td>\n",
       "      <td>nulo</td>\n",
       "      <td>nulo</td>\n",
       "      <td>Mesma Classe</td>\n",
       "      <td>Mesma Classe</td>\n",
       "    </tr>\n",
       "    <tr>\n",
       "      <th>cl1_p4_brava_deixa3_a0007</th>\n",
       "      <td>baixo</td>\n",
       "      <td>baixo</td>\n",
       "      <td>baixo</td>\n",
       "      <td>Mesma Classe</td>\n",
       "      <td>Mesma Classe</td>\n",
       "    </tr>\n",
       "    <tr>\n",
       "      <th>cl1_p5_moca2_deixa2_c0002</th>\n",
       "      <td>nulo</td>\n",
       "      <td>nulo</td>\n",
       "      <td>nulo</td>\n",
       "      <td>Mesma Classe</td>\n",
       "      <td>Mesma Classe</td>\n",
       "    </tr>\n",
       "    <tr>\n",
       "      <th>...</th>\n",
       "      <td>...</td>\n",
       "      <td>...</td>\n",
       "      <td>...</td>\n",
       "      <td>...</td>\n",
       "      <td>...</td>\n",
       "    </tr>\n",
       "    <tr>\n",
       "      <th>cl1_p3_brava_deixa0_f0004</th>\n",
       "      <td>baixo</td>\n",
       "      <td>baixo</td>\n",
       "      <td>baixo</td>\n",
       "      <td>Mesma Classe</td>\n",
       "      <td>Mesma Classe</td>\n",
       "    </tr>\n",
       "    <tr>\n",
       "      <th>cl1_p2_joaq_dunai_d0012</th>\n",
       "      <td>moderado</td>\n",
       "      <td>baixo</td>\n",
       "      <td>baixo</td>\n",
       "      <td>Classes Diferentes</td>\n",
       "      <td>Classes Diferentes</td>\n",
       "    </tr>\n",
       "    <tr>\n",
       "      <th>cl1_p12_moca2_deixa4_d0002</th>\n",
       "      <td>alto</td>\n",
       "      <td>alto</td>\n",
       "      <td>muito alto</td>\n",
       "      <td>Mesma Classe</td>\n",
       "      <td>Classes Diferentes</td>\n",
       "    </tr>\n",
       "    <tr>\n",
       "      <th>cl1_p4_brava_deixa4_d0003</th>\n",
       "      <td>alto</td>\n",
       "      <td>moderado</td>\n",
       "      <td>moderado</td>\n",
       "      <td>Classes Diferentes</td>\n",
       "      <td>Classes Diferentes</td>\n",
       "    </tr>\n",
       "    <tr>\n",
       "      <th>cl1_p4_brava_deixa6_g0010</th>\n",
       "      <td>nulo</td>\n",
       "      <td>nulo</td>\n",
       "      <td>nulo</td>\n",
       "      <td>Mesma Classe</td>\n",
       "      <td>Mesma Classe</td>\n",
       "    </tr>\n",
       "  </tbody>\n",
       "</table>\n",
       "<p>226 rows × 5 columns</p>\n",
       "</div>"
      ],
      "text/plain": [
       "                              Classificação Visual Classificação RGB - B  \\\n",
       "cl1_p12_moca2_deixa4_a0004              muito alto                  alto   \n",
       "cl1_p3_brava_deixa2_g0004                    baixo                 baixo   \n",
       "cl1_p13_lagoinha_deixa3_a0002                 nulo                  nulo   \n",
       "cl1_p4_brava_deixa3_a0007                    baixo                 baixo   \n",
       "cl1_p5_moca2_deixa2_c0002                     nulo                  nulo   \n",
       "...                                            ...                   ...   \n",
       "cl1_p3_brava_deixa0_f0004                    baixo                 baixo   \n",
       "cl1_p2_joaq_dunai_d0012                   moderado                 baixo   \n",
       "cl1_p12_moca2_deixa4_d0002                    alto                  alto   \n",
       "cl1_p4_brava_deixa4_d0003                     alto              moderado   \n",
       "cl1_p4_brava_deixa6_g0010                     nulo                  nulo   \n",
       "\n",
       "                              Classificação RGB - R/B Comparação Visual e B  \\\n",
       "cl1_p12_moca2_deixa4_a0004                       alto    Classes Diferentes   \n",
       "cl1_p3_brava_deixa2_g0004                       baixo          Mesma Classe   \n",
       "cl1_p13_lagoinha_deixa3_a0002                    nulo          Mesma Classe   \n",
       "cl1_p4_brava_deixa3_a0007                       baixo          Mesma Classe   \n",
       "cl1_p5_moca2_deixa2_c0002                        nulo          Mesma Classe   \n",
       "...                                               ...                   ...   \n",
       "cl1_p3_brava_deixa0_f0004                       baixo          Mesma Classe   \n",
       "cl1_p2_joaq_dunai_d0012                         baixo    Classes Diferentes   \n",
       "cl1_p12_moca2_deixa4_d0002                 muito alto          Mesma Classe   \n",
       "cl1_p4_brava_deixa4_d0003                    moderado    Classes Diferentes   \n",
       "cl1_p4_brava_deixa6_g0010                        nulo          Mesma Classe   \n",
       "\n",
       "                              Comparação Visual e R/B  \n",
       "cl1_p12_moca2_deixa4_a0004         Classes Diferentes  \n",
       "cl1_p3_brava_deixa2_g0004                Mesma Classe  \n",
       "cl1_p13_lagoinha_deixa3_a0002            Mesma Classe  \n",
       "cl1_p4_brava_deixa3_a0007                Mesma Classe  \n",
       "cl1_p5_moca2_deixa2_c0002                Mesma Classe  \n",
       "...                                               ...  \n",
       "cl1_p3_brava_deixa0_f0004                Mesma Classe  \n",
       "cl1_p2_joaq_dunai_d0012            Classes Diferentes  \n",
       "cl1_p12_moca2_deixa4_d0002         Classes Diferentes  \n",
       "cl1_p4_brava_deixa4_d0003          Classes Diferentes  \n",
       "cl1_p4_brava_deixa6_g0010                Mesma Classe  \n",
       "\n",
       "[226 rows x 5 columns]"
      ]
     },
     "execution_count": 2,
     "metadata": {},
     "output_type": "execute_result"
    }
   ],
   "source": [
    "import pandas as pd \n",
    "\n",
    "df = pd.read_csv('comparison_methodologies.csv', index_col = 0)\n",
    "df"
   ]
  },
  {
   "cell_type": "code",
   "execution_count": 3,
   "metadata": {
    "scrolled": true
   },
   "outputs": [
    {
     "data": {
      "text/html": [
       "<div>\n",
       "<style scoped>\n",
       "    .dataframe tbody tr th:only-of-type {\n",
       "        vertical-align: middle;\n",
       "    }\n",
       "\n",
       "    .dataframe tbody tr th {\n",
       "        vertical-align: top;\n",
       "    }\n",
       "\n",
       "    .dataframe thead th {\n",
       "        text-align: right;\n",
       "    }\n",
       "</style>\n",
       "<table border=\"1\" class=\"dataframe\">\n",
       "  <thead>\n",
       "    <tr style=\"text-align: right;\">\n",
       "      <th></th>\n",
       "      <th>Classificação Visual</th>\n",
       "      <th>Classificação RGB - B</th>\n",
       "      <th>Classificação RGB - R/B</th>\n",
       "      <th>Comparação Visual e B</th>\n",
       "      <th>Comparação Visual e R/B</th>\n",
       "    </tr>\n",
       "  </thead>\n",
       "  <tbody>\n",
       "    <tr>\n",
       "      <th>count</th>\n",
       "      <td>226</td>\n",
       "      <td>226</td>\n",
       "      <td>226</td>\n",
       "      <td>226</td>\n",
       "      <td>226</td>\n",
       "    </tr>\n",
       "    <tr>\n",
       "      <th>unique</th>\n",
       "      <td>6</td>\n",
       "      <td>4</td>\n",
       "      <td>5</td>\n",
       "      <td>2</td>\n",
       "      <td>2</td>\n",
       "    </tr>\n",
       "    <tr>\n",
       "      <th>top</th>\n",
       "      <td>baixo</td>\n",
       "      <td>baixo</td>\n",
       "      <td>baixo</td>\n",
       "      <td>Mesma Classe</td>\n",
       "      <td>Mesma Classe</td>\n",
       "    </tr>\n",
       "    <tr>\n",
       "      <th>freq</th>\n",
       "      <td>76</td>\n",
       "      <td>113</td>\n",
       "      <td>113</td>\n",
       "      <td>117</td>\n",
       "      <td>114</td>\n",
       "    </tr>\n",
       "  </tbody>\n",
       "</table>\n",
       "</div>"
      ],
      "text/plain": [
       "       Classificação Visual Classificação RGB - B Classificação RGB - R/B  \\\n",
       "count                   226                   226                     226   \n",
       "unique                    6                     4                       5   \n",
       "top                   baixo                 baixo                   baixo   \n",
       "freq                     76                   113                     113   \n",
       "\n",
       "       Comparação Visual e B Comparação Visual e R/B  \n",
       "count                    226                     226  \n",
       "unique                     2                       2  \n",
       "top             Mesma Classe            Mesma Classe  \n",
       "freq                     117                     114  "
      ]
     },
     "execution_count": 3,
     "metadata": {},
     "output_type": "execute_result"
    }
   ],
   "source": [
    "df.describe()"
   ]
  },
  {
   "cell_type": "code",
   "execution_count": 5,
   "metadata": {
    "scrolled": true
   },
   "outputs": [
    {
     "data": {
      "text/plain": [
       "Classificação Visual  Classificação RGB - B  Comparação Visual e B\n",
       "alto                  alto                   Mesma Classe             17\n",
       "                      baixo                  Classes Diferentes        9\n",
       "                      moderado               Classes Diferentes       11\n",
       "                      nulo                   Classes Diferentes        1\n",
       "baixo                 baixo                  Mesma Classe             55\n",
       "                      moderado               Classes Diferentes        1\n",
       "                      nulo                   Classes Diferentes       20\n",
       "moderado              alto                   Classes Diferentes        1\n",
       "                      baixo                  Classes Diferentes       27\n",
       "                      nulo                   Classes Diferentes        4\n",
       "muito alto            alto                   Classes Diferentes        8\n",
       "                      baixo                  Classes Diferentes        2\n",
       "                      moderado               Classes Diferentes        3\n",
       "na                    baixo                  Classes Diferentes        1\n",
       "                      nulo                   Classes Diferentes        2\n",
       "nulo                  baixo                  Classes Diferentes       19\n",
       "                      nulo                   Mesma Classe             45\n",
       "dtype: int64"
      ]
     },
     "execution_count": 5,
     "metadata": {},
     "output_type": "execute_result"
    }
   ],
   "source": [
    "#Comparação Visual e B\n",
    "\n",
    "df.groupby([\"Classificação Visual\", \"Classificação RGB - B\", \"Comparação Visual e B\"]).size()"
   ]
  },
  {
   "cell_type": "code",
   "execution_count": 6,
   "metadata": {},
   "outputs": [
    {
     "name": "stdout",
     "output_type": "stream",
     "text": [
      "Porcentagem de acertos foi de 51.77 %\n"
     ]
    }
   ],
   "source": [
    "# Porcentagem de acertos utilizando a banda azul\n",
    "\n",
    "tot = 226\n",
    "same_class = 117\n",
    "acerto = (same_class/tot)*100\n",
    "print('Porcentagem de acertos foi de', round(acerto,2),'%')"
   ]
  },
  {
   "cell_type": "code",
   "execution_count": 17,
   "metadata": {},
   "outputs": [
    {
     "name": "stdout",
     "output_type": "stream",
     "text": [
      "Amarelamento baixo teve 72.37 % de acertos \n",
      "\n",
      "Amarelamento nulo teve 70.31 % de acertos \n",
      "\n",
      "Amarelamento alto teve 44.74 % de acertos \n",
      "\n",
      "Amarelamento moderado teve 0.0 % de acertos \n",
      "\n",
      "Amarelamento muito alto teve 0.0 % de acertos \n",
      "\n"
     ]
    },
    {
     "ename": "TypeError",
     "evalue": "unsupported operand type(s) for /: 'NoneType' and 'int'",
     "output_type": "error",
     "traceback": [
      "\u001b[0;31m---------------------------------------------------------------------------\u001b[0m",
      "\u001b[0;31mTypeError\u001b[0m                                 Traceback (most recent call last)",
      "Input \u001b[0;32mIn [17]\u001b[0m, in \u001b[0;36m<cell line: 14>\u001b[0;34m()\u001b[0m\n\u001b[1;32m      7\u001b[0m data_onlyblue \u001b[38;5;241m=\u001b[39m {\u001b[38;5;124m'\u001b[39m\u001b[38;5;124mnulo\u001b[39m\u001b[38;5;124m'\u001b[39m: \u001b[38;5;241m45\u001b[39m,\n\u001b[1;32m      8\u001b[0m                   \u001b[38;5;124m'\u001b[39m\u001b[38;5;124mbaixo\u001b[39m\u001b[38;5;124m'\u001b[39m: \u001b[38;5;241m55\u001b[39m,\n\u001b[1;32m      9\u001b[0m                   \u001b[38;5;124m'\u001b[39m\u001b[38;5;124mmoderado\u001b[39m\u001b[38;5;124m'\u001b[39m: \u001b[38;5;241m0\u001b[39m,\n\u001b[1;32m     10\u001b[0m                   \u001b[38;5;124m'\u001b[39m\u001b[38;5;124malto\u001b[39m\u001b[38;5;124m'\u001b[39m: \u001b[38;5;241m17\u001b[39m,\n\u001b[1;32m     11\u001b[0m                   \u001b[38;5;124m'\u001b[39m\u001b[38;5;124mmuito alto\u001b[39m\u001b[38;5;124m'\u001b[39m: \u001b[38;5;241m0\u001b[39m\n\u001b[1;32m     12\u001b[0m                  }\n\u001b[1;32m     14\u001b[0m \u001b[38;5;28;01mfor\u001b[39;00m key, value \u001b[38;5;129;01min\u001b[39;00m data_visual\u001b[38;5;241m.\u001b[39mitems():\n\u001b[0;32m---> 15\u001b[0m     acerto_classe \u001b[38;5;241m=\u001b[39m (\u001b[43mdata_onlyblue\u001b[49m\u001b[38;5;241;43m.\u001b[39;49m\u001b[43mget\u001b[49m\u001b[43m(\u001b[49m\u001b[43mkey\u001b[49m\u001b[43m)\u001b[49m\u001b[38;5;241;43m/\u001b[39;49m\u001b[43mdata_visual\u001b[49m\u001b[38;5;241;43m.\u001b[39;49m\u001b[43mget\u001b[49m\u001b[43m(\u001b[49m\u001b[43mkey\u001b[49m\u001b[43m)\u001b[49m)\u001b[38;5;241m*\u001b[39m\u001b[38;5;241m100\u001b[39m\n\u001b[1;32m     16\u001b[0m     \u001b[38;5;28mprint\u001b[39m(\u001b[38;5;124m'\u001b[39m\u001b[38;5;124mAmarelamento\u001b[39m\u001b[38;5;124m'\u001b[39m,key,\u001b[38;5;124m'\u001b[39m\u001b[38;5;124mteve\u001b[39m\u001b[38;5;124m'\u001b[39m, \u001b[38;5;28mround\u001b[39m(acerto_classe,\u001b[38;5;241m2\u001b[39m), \u001b[38;5;124m'\u001b[39m\u001b[38;5;132;01m% d\u001b[39;00m\u001b[38;5;124me acertos \u001b[39m\u001b[38;5;130;01m\\n\u001b[39;00m\u001b[38;5;124m'\u001b[39m)\n",
      "\u001b[0;31mTypeError\u001b[0m: unsupported operand type(s) for /: 'NoneType' and 'int'"
     ]
    }
   ],
   "source": [
    "# Porcentagem de acertos por classe banda azul\n",
    "\n",
    "#Dados Visual\n",
    "data_visual = df[\"Classificação Visual\"].value_counts()\n",
    "\n",
    "#Dados Metodo RGB\n",
    "data_onlyblue = {'nulo': 45,\n",
    "                  'baixo': 55,\n",
    "                  'moderado': 0,\n",
    "                  'alto': 17,\n",
    "                  'muito alto': 0\n",
    "                 }\n",
    "\n",
    "for key, value in data_visual.items():\n",
    "    acerto_classe = (data_onlyblue.get(key)/data_visual.get(key))*100\n",
    "    print('Amarelamento',key,'teve', round(acerto_classe,2), '% de acertos \\n')"
   ]
  },
  {
   "cell_type": "code",
   "execution_count": 18,
   "metadata": {
    "scrolled": false
   },
   "outputs": [
    {
     "data": {
      "text/plain": [
       "Classificação Visual  Classificação RGB - R/B  Comparação Visual e B\n",
       "alto                  alto                     Mesma Classe             12\n",
       "                      baixo                    Classes Diferentes        9\n",
       "                      moderado                 Classes Diferentes       11\n",
       "                      muito alto               Mesma Classe              5\n",
       "                      nulo                     Classes Diferentes        1\n",
       "baixo                 baixo                    Mesma Classe             55\n",
       "                      moderado                 Classes Diferentes        1\n",
       "                      nulo                     Classes Diferentes       20\n",
       "moderado              baixo                    Classes Diferentes       27\n",
       "                      muito alto               Classes Diferentes        1\n",
       "                      nulo                     Classes Diferentes        4\n",
       "muito alto            alto                     Classes Diferentes        6\n",
       "                      baixo                    Classes Diferentes        2\n",
       "                      moderado                 Classes Diferentes        3\n",
       "                      muito alto               Classes Diferentes        2\n",
       "na                    baixo                    Classes Diferentes        1\n",
       "                      nulo                     Classes Diferentes        2\n",
       "nulo                  baixo                    Classes Diferentes       19\n",
       "                      nulo                     Mesma Classe             45\n",
       "dtype: int64"
      ]
     },
     "execution_count": 18,
     "metadata": {},
     "output_type": "execute_result"
    }
   ],
   "source": [
    "#Comparação Visual e R/B\n",
    "\n",
    "df.groupby([\"Classificação Visual\", \"Classificação RGB - R/B\", \"Comparação Visual e B\"]).size()"
   ]
  },
  {
   "cell_type": "code",
   "execution_count": 19,
   "metadata": {},
   "outputs": [
    {
     "name": "stdout",
     "output_type": "stream",
     "text": [
      "Porcentagem de acertos foi de 50.44 %\n"
     ]
    }
   ],
   "source": [
    "# Porcentagem de acertos utilizando a fração b/r\n",
    "\n",
    "tot = 226\n",
    "same_class = 114\n",
    "acerto = (same_class/tot)*100\n",
    "print('Porcentagem de acertos foi de', round(acerto,2),'%')"
   ]
  },
  {
   "cell_type": "code",
   "execution_count": 20,
   "metadata": {},
   "outputs": [
    {
     "name": "stdout",
     "output_type": "stream",
     "text": [
      "Amarelamento baixo teve 72.37 % de acertos \n",
      "\n",
      "Amarelamento nulo teve 70.31 % de acertos \n",
      "\n",
      "Amarelamento alto teve 31.58 % de acertos \n",
      "\n",
      "Amarelamento moderado teve 0.0 % de acertos \n",
      "\n",
      "Amarelamento muito alto teve 38.46 % de acertos \n",
      "\n"
     ]
    },
    {
     "ename": "TypeError",
     "evalue": "unsupported operand type(s) for /: 'NoneType' and 'int'",
     "output_type": "error",
     "traceback": [
      "\u001b[0;31m---------------------------------------------------------------------------\u001b[0m",
      "\u001b[0;31mTypeError\u001b[0m                                 Traceback (most recent call last)",
      "Input \u001b[0;32mIn [20]\u001b[0m, in \u001b[0;36m<cell line: 14>\u001b[0;34m()\u001b[0m\n\u001b[1;32m      7\u001b[0m data_onlyblue \u001b[38;5;241m=\u001b[39m {\u001b[38;5;124m'\u001b[39m\u001b[38;5;124mnulo\u001b[39m\u001b[38;5;124m'\u001b[39m: \u001b[38;5;241m45\u001b[39m,\n\u001b[1;32m      8\u001b[0m                   \u001b[38;5;124m'\u001b[39m\u001b[38;5;124mbaixo\u001b[39m\u001b[38;5;124m'\u001b[39m: \u001b[38;5;241m55\u001b[39m,\n\u001b[1;32m      9\u001b[0m                   \u001b[38;5;124m'\u001b[39m\u001b[38;5;124mmoderado\u001b[39m\u001b[38;5;124m'\u001b[39m: \u001b[38;5;241m0\u001b[39m,\n\u001b[1;32m     10\u001b[0m                   \u001b[38;5;124m'\u001b[39m\u001b[38;5;124malto\u001b[39m\u001b[38;5;124m'\u001b[39m: \u001b[38;5;241m12\u001b[39m,\n\u001b[1;32m     11\u001b[0m                   \u001b[38;5;124m'\u001b[39m\u001b[38;5;124mmuito alto\u001b[39m\u001b[38;5;124m'\u001b[39m: \u001b[38;5;241m5\u001b[39m\n\u001b[1;32m     12\u001b[0m                  }\n\u001b[1;32m     14\u001b[0m \u001b[38;5;28;01mfor\u001b[39;00m key, value \u001b[38;5;129;01min\u001b[39;00m data_visual\u001b[38;5;241m.\u001b[39mitems():\n\u001b[0;32m---> 15\u001b[0m     acerto_classe \u001b[38;5;241m=\u001b[39m (\u001b[43mdata_onlyblue\u001b[49m\u001b[38;5;241;43m.\u001b[39;49m\u001b[43mget\u001b[49m\u001b[43m(\u001b[49m\u001b[43mkey\u001b[49m\u001b[43m)\u001b[49m\u001b[38;5;241;43m/\u001b[39;49m\u001b[43mdata_visual\u001b[49m\u001b[38;5;241;43m.\u001b[39;49m\u001b[43mget\u001b[49m\u001b[43m(\u001b[49m\u001b[43mkey\u001b[49m\u001b[43m)\u001b[49m)\u001b[38;5;241m*\u001b[39m\u001b[38;5;241m100\u001b[39m\n\u001b[1;32m     16\u001b[0m     \u001b[38;5;28mprint\u001b[39m(\u001b[38;5;124m'\u001b[39m\u001b[38;5;124mAmarelamento\u001b[39m\u001b[38;5;124m'\u001b[39m,key,\u001b[38;5;124m'\u001b[39m\u001b[38;5;124mteve\u001b[39m\u001b[38;5;124m'\u001b[39m, \u001b[38;5;28mround\u001b[39m(acerto_classe,\u001b[38;5;241m2\u001b[39m), \u001b[38;5;124m'\u001b[39m\u001b[38;5;132;01m% d\u001b[39;00m\u001b[38;5;124me acertos \u001b[39m\u001b[38;5;130;01m\\n\u001b[39;00m\u001b[38;5;124m'\u001b[39m)\n",
      "\u001b[0;31mTypeError\u001b[0m: unsupported operand type(s) for /: 'NoneType' and 'int'"
     ]
    }
   ],
   "source": [
    "# Porcentagem de acertos por classe fração b/r\n",
    "\n",
    "#Dados Visual\n",
    "data_visual = df[\"Classificação Visual\"].value_counts()\n",
    "\n",
    "#Dados Metodo RGB\n",
    "data_onlyblue = {'nulo': 45,\n",
    "                  'baixo': 55,\n",
    "                  'moderado': 0,\n",
    "                  'alto': 12,\n",
    "                  'muito alto': 5\n",
    "                 }\n",
    "\n",
    "for key, value in data_visual.items():\n",
    "    acerto_classe = (data_onlyblue.get(key)/data_visual.get(key))*100\n",
    "    print('Amarelamento',key,'teve', round(acerto_classe,2), '% de acertos \\n')"
   ]
  },
  {
   "cell_type": "code",
   "execution_count": null,
   "metadata": {},
   "outputs": [],
   "source": []
  }
 ],
 "metadata": {
  "kernelspec": {
   "display_name": "Python 3",
   "language": "python",
   "name": "python3"
  },
  "language_info": {
   "codemirror_mode": {
    "name": "ipython",
    "version": 3
   },
   "file_extension": ".py",
   "mimetype": "text/x-python",
   "name": "python",
   "nbconvert_exporter": "python",
   "pygments_lexer": "ipython3",
   "version": "3.9.7"
  }
 },
 "nbformat": 4,
 "nbformat_minor": 4
}
